{
 "cells": [
  {
   "cell_type": "markdown",
   "metadata": {},
   "source": "# Artifact Evaluation (Colab)\n\nThis notebook runs the commands in `claims.txt` and prints outputs so an AE reviewer can visually compare them to the tables in the paper."
  },
  {
   "cell_type": "code",
   "execution_count": null,
   "id": "ca9e9dc8",
   "metadata": {},
   "outputs": [],
   "source": "# If running in Colab, auto-clone the repo when needed,\n# so that the path contains artifact.\nimport os, sys, subprocess, pathlib\nroot = pathlib.Path.cwd()\nprint('CWD:', root)\nif not (root / 'artifact').exists():\n    # Configure your public repo URL and branch here if opened standalone in Colab\n    REPO_URL = os.environ.get('AE_REPO_URL', 'https://github.com/k3coby/kmap4auth.git')\n    BRANCH = os.environ.get('AE_REPO_BRANCH', 'main')\n    clone_dir = pathlib.Path('/content/ae-repo')\n    if not clone_dir.exists():\n        print(f'Cloning {REPO_URL}@{BRANCH} ->', clone_dir)\n        subprocess.check_call(['git', 'clone', '-b', BRANCH, REPO_URL, str(clone_dir)])\n    root = clone_dir\n    assert (root / 'artifact').exists(), 'Set REPO_URL to your public repo containing artifact/'\nprint('Repo root:', root)"
  },
  {
   "cell_type": "code",
   "execution_count": null,
   "id": "b5384d2e",
   "metadata": {},
   "outputs": [],
   "source": "# Show commands mapping\nprint('--- claims.txt ---')\nprint((root / 'artifact' / 'claims.txt').read_text())"
  },
  {
   "cell_type": "code",
   "execution_count": null,
   "id": "7a350561",
   "metadata": {},
   "outputs": [],
   "source": "# Run the individual claim commands\ndef run(cmd, label=None):\n    if label: print(f'\\n=== {label} ===')\n    print(f'\\n$ {cmd}')\n    import subprocess\n    out = subprocess.check_output(cmd, shell=True, text=True, cwd=root)\n    print(out)\n    \n    # Add explanation for access_analyzer.py outputs\n    if 'access_analyzer.py' in cmd:\n        print(\"Note: [AB] means A AND B, [A][B] means A OR B, [AB][CD] means (A AND B) OR (C AND D)\")"
  },
  {
   "cell_type": "code",
   "id": "bb2v181gwn8",
   "source": "# Claim 1 — Table 2 (1FA sufficiency)\nrun('python3 artifact/access_analyzer.py -s artifact/data.csv 1FA', 'Claim 1: Table 2 (1FA sufficiency)')",
   "metadata": {},
   "execution_count": null,
   "outputs": []
  },
  {
   "cell_type": "code",
   "id": "titig2ommij",
   "source": "# Claim 1 — Table 2 (1FA necessity)\nrun('python3 artifact/access_analyzer.py -n artifact/data.csv 1FA', 'Claim 1: Table 2 (1FA necessity)')",
   "metadata": {},
   "execution_count": null,
   "outputs": []
  },
  {
   "cell_type": "code",
   "id": "l2kyv0k89er",
   "source": "# Claim 2 — Table 3 (Reset1FA sufficiency)\nrun('python3 artifact/access_analyzer.py -s artifact/data.csv Reset1FA', 'Claim 2: Table 3 (Reset1FA sufficiency)')",
   "metadata": {},
   "execution_count": null,
   "outputs": []
  },
  {
   "cell_type": "code",
   "id": "6eoug85puum",
   "source": "# Claim 2 — Table 3 (Reset1FA necessity)\nrun('python3 artifact/access_analyzer.py -n artifact/data.csv Reset1FA', 'Claim 2: Table 3 (Reset1FA necessity)')",
   "metadata": {},
   "execution_count": null,
   "outputs": []
  },
  {
   "cell_type": "code",
   "id": "942zltf000b",
   "source": "# Claim 3 — Table 4 (2FA sufficiency)\nrun('python3 artifact/access_analyzer.py -s artifact/data.csv 2FA', 'Claim 3: Table 4 (2FA sufficiency)')",
   "metadata": {},
   "execution_count": null,
   "outputs": []
  },
  {
   "cell_type": "code",
   "id": "4b9kmv3axyq",
   "source": "# Claim 3 — Table 4 (2FA necessity)\nrun('python3 artifact/access_analyzer.py -n artifact/data.csv 2FA', 'Claim 3: Table 4 (2FA necessity)')",
   "metadata": {},
   "execution_count": null,
   "outputs": []
  },
  {
   "cell_type": "code",
   "id": "4lcoipatav3",
   "source": "# Claim 4 — Table 5 (Reset2FA sufficiency)\nrun('python3 artifact/access_analyzer.py -s artifact/data.csv Reset2FA', 'Claim 4: Table 5 (Reset2FA sufficiency)')",
   "metadata": {},
   "execution_count": null,
   "outputs": []
  },
  {
   "cell_type": "code",
   "id": "w7mf4rdedt",
   "source": "# Claim 4 — Table 5 (Reset2FA necessity)\nrun('python3 artifact/access_analyzer.py -n artifact/data.csv Reset2FA', 'Claim 4: Table 5 (Reset2FA necessity)')",
   "metadata": {},
   "execution_count": null,
   "outputs": []
  },
  {
   "cell_type": "code",
   "id": "3i1tdsi4vy3",
   "source": "# Generate K-map CSV once for claims 5-8\nrun('python3 artifact/kmap_simplify.py artifact/data.csv artifact/data_with_kmap.csv --output-delim same', 'Generate data_with_kmap.csv')",
   "metadata": {},
   "execution_count": null,
   "outputs": []
  },
  {
   "cell_type": "code",
   "id": "m6b89nev8v",
   "source": "# Claim 5 — Table 6 (Kmap1FA sufficiency)\nrun('python3 artifact/access_analyzer.py -s artifact/data_with_kmap.csv Kmap1FA', 'Claim 5: Table 6 (Kmap1FA sufficiency)')",
   "metadata": {},
   "execution_count": null,
   "outputs": []
  },
  {
   "cell_type": "code",
   "id": "n6ibitee63r",
   "source": "# Claim 6 — Table 7 (1FA vs Kmap1FA factor sets)\nrun('python3 artifact/factor_analyzer.py artifact/data_with_kmap.csv 1FA Kmap1FA', 'Claim 6: Table 7 (1FA vs Kmap1FA)')",
   "metadata": {},
   "execution_count": null,
   "outputs": []
  },
  {
   "cell_type": "code",
   "id": "1zx3paesjj0i",
   "source": "# Claim 7 — Table 8 (Kmap2FA sufficiency)\nrun('python3 artifact/access_analyzer.py -s artifact/data_with_kmap.csv Kmap2FA', 'Claim 7: Table 8 (Kmap2FA sufficiency)')",
   "metadata": {},
   "execution_count": null,
   "outputs": []
  },
  {
   "cell_type": "code",
   "id": "3vaiwuc628e",
   "source": "# Claim 8 — Table 9 (2FA vs Kmap2FA factor sets)\nrun('python3 artifact/factor_analyzer.py artifact/data_with_kmap.csv 2FA Kmap2FA', 'Claim 8: Table 9 (2FA vs Kmap2FA)')",
   "metadata": {},
   "execution_count": null,
   "outputs": []
  }
 ],
 "metadata": {
  "kernelspec": {
   "display_name": "Python 3",
   "name": "python3"
  },
  "language_info": {
   "name": "python"
  }
 },
 "nbformat": 4,
 "nbformat_minor": 5
}